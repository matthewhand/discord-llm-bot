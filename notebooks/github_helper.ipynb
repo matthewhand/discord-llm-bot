{
  "nbformat": 4,
  "nbformat_minor": 5,
  "metadata": {
    "noteable-chatgpt": {
      "create_notebook": {
        "openai_conversation_id": "ca107463-9d04-5c77-8e03-f4e16c138581",
        "openai_ephemeral_user_id": "ae517374-40e7-5909-b27d-73915ba0fc2e",
        "openai_subdivision1_iso_code": "AU-ACT"
      }
    },
    "kernel_info": {
      "name": "python3"
    },
    "noteable": {
      "last_transaction_id": "009ac7be-d12a-4d91-a4bc-28be47d7f1e1"
    },
    "kernelspec": {
      "display_name": "Python 3.9",
      "language": "python",
      "name": "python3"
    },
    "selected_hardware_size": "small"
  },
  "cells": [
    {
      "id": "fb7ce1e6-dbe2-46de-a0eb-e0cd322b2f9a",
      "cell_type": "code",
      "metadata": {
        "noteable": {
          "cell_type": "code",
          "output_collection_id": "04ffbf09-537a-4bf6-a3af-185ecc6b9a80"
        },
        "ExecuteTime": {
          "end_time": "2023-08-25T09:46:19.238368+00:00",
          "start_time": "2023-08-25T09:46:18.670855+00:00"
        }
      },
      "execution_count": null,
      "source": "import os\nfrom github import Github\n\n# Global variables that can be overridden using environment variables\nGITHUB_TOKEN = os.getenv('GITHUB_TOKEN', 'your-token-here')\nREPO_NAME = os.getenv('REPO_NAME', 'your-repo-name-here')\n\n# Create a Github instance using the token\ngithub_instance = Github(GITHUB_TOKEN)\n\n# Function to get the repository\ndef get_repository(repo_name=REPO_NAME):\n    return github_instance.get_user().get_repo(repo_name)\n\n# Function to get the latest commit\ndef get_latest_commit(repo_name=REPO_NAME):\n    repo = get_repository(repo_name)\n    return repo.get_commits()[0]\n\n# Function to create a new file in the repository\ndef create_file(file_path, content, commit_message, repo_name=REPO_NAME):\n    repo = get_repository(repo_name)\n    repo.create_file(file_path, commit_message, content)\n\n# Function to update an existing file in the repository\ndef update_file(file_path, content, commit_message, repo_name=REPO_NAME):\n    repo = get_repository(repo_name)\n    file = repo.get_contents(file_path)\n    repo.update_file(file_path, commit_message, content, file.sha)",
      "outputs": []
    },
    {
      "id": "2852538a-e8cc-4b6b-a458-eff6e722c45a",
      "cell_type": "markdown",
      "source": "## Usage Examples\n### Get Repository\nTo get the specified repository, use the `get_repository()` function. Example:\n```python\nrepo = get_repository()\nprint(repo.name)\n```\n### Get Latest Commit\nTo get the latest commit from the specified repository, use the `get_latest_commit()` function. Example:\n```python\ncommit = get_latest_commit()\nprint(commit.message)\n```\n### Create File\nTo create a new file in the specified repository, use the `create_file(path, content, commit_message)` function. Example:\n```python\ncreate_file('new_file.txt', 'This is a new file', 'Create new_file.txt')\n```\n### Update File\nTo update an existing file in the specified repository, use the `update_file(path, content, commit_message)` function. Example:\n```python\nupdate_file('existing_file.txt', 'Updated content', 'Update existing_file.txt')\n```",
      "metadata": {
        "noteable": {
          "cell_type": "markdown"
        }
      }
    },
    {
      "id": "13a81edb-e5ff-4051-a765-f232f393705a",
      "cell_type": "code",
      "metadata": {
        "noteable": {
          "cell_type": "code",
          "output_collection_id": "6c02e3d5-9055-4a10-b890-4f4673d7d7ec"
        },
        "ExecuteTime": {
          "end_time": "2023-08-25T09:47:04.739993+00:00",
          "start_time": "2023-08-25T09:47:04.376236+00:00"
        }
      },
      "execution_count": null,
      "source": "import os\nfrom github import Github\nGITHUB_TOKEN = os.getenv('GITHUB_TOKEN')\nREPO_NAME = os.getenv('REPO_NAME', 'matthewhand/discord-python-executor-bot')\ndef get_github_client():\n    return Github(GITHUB_TOKEN)\ndef get_repository():\n    github_client = get_github_client()\n    return github_client.get_repo(REPO_NAME)\ndef get_latest_commit():\n    repo = get_repository()\n    return repo.get_commits()[0]\ndef create_file(path, content, commit_message):\n    repo = get_repository()\n    repo.create_file(path, commit_message, content)\ndef update_file(path, content, commit_message):\n    repo = get_repository()\n    file = repo.get_contents(path)\n    repo.update_file(path, commit_message, content, file.sha)",
      "outputs": []
    },
    {
      "id": "47ce6bc8-fdaf-40f6-b751-e6171c985463",
      "cell_type": "code",
      "metadata": {
        "noteable": {
          "cell_type": "code",
          "output_collection_id": "bef04421-2d9c-4c98-a77f-9caacc2b7dd0"
        },
        "ExecuteTime": {
          "end_time": "2023-08-25T09:46:50.096791+00:00",
          "start_time": "2023-08-25T09:46:43.449981+00:00"
        }
      },
      "execution_count": null,
      "source": "!pip install PyGithub",
      "outputs": []
    },
    {
      "id": "0e53cd40-747d-44f8-a1ac-df16953e4946",
      "cell_type": "code",
      "metadata": {
        "noteable": {
          "cell_type": "code",
          "output_collection_id": "997f3f5f-9deb-4e3d-9af2-93bef281c914"
        }
      },
      "execution_count": null,
      "source": "from shutil import copyfile\nnotebook_path = 'github_helper.ipynb'\ndestination_path = '/content/github_helper.ipynb'\ncopyfile(notebook_path, destination_path)\ndestination_path",
      "outputs": []
    }
  ]
}