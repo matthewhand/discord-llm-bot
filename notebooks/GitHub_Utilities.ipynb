{
  "nbformat": 4,
  "nbformat_minor": 5,
  "metadata": {
    "noteable-chatgpt": {
      "create_notebook": {
        "openai_conversation_id": "f2b16d65-34ca-5e9e-915f-f169fa695568",
        "openai_ephemeral_user_id": "ae517374-40e7-5909-b27d-73915ba0fc2e",
        "openai_subdivision1_iso_code": "AU-ACT"
      }
    },
    "kernel_info": {
      "name": "python3"
    },
    "noteable": {
      "last_transaction_id": "5032f3b1-3e74-4147-a39d-2126cb199ded"
    },
    "kernelspec": {
      "display_name": "Python 3.9",
      "language": "python",
      "name": "python3"
    },
    "selected_hardware_size": "small"
  },
  "cells": [
    {
      "id": "fa4ba485-69a5-408d-aa64-42bbfa671cc3",
      "cell_type": "code",
      "metadata": {
        "noteable": {
          "cell_type": "code",
          "output_collection_id": "13d6eb55-9a43-48f3-9509-ccd47b0a5c16"
        },
        "ExecuteTime": {
          "end_time": "2023-08-25T22:09:19.342664+00:00",
          "start_time": "2023-08-25T22:09:11.371759+00:00"
        }
      },
      "execution_count": null,
      "source": "%run chatgpt_bootstrap.ipynb",
      "outputs": []
    },
    {
      "id": "0c495fe6-c25d-4a69-8763-e060ac590fe1",
      "cell_type": "code",
      "metadata": {
        "noteable": {
          "cell_type": "code",
          "output_collection_id": "f50560fc-cd57-470e-b9bf-ac685547ea35"
        },
        "ExecuteTime": {
          "end_time": "2023-08-25T22:09:32.739066+00:00",
          "start_time": "2023-08-25T22:09:27.487665+00:00"
        }
      },
      "execution_count": null,
      "source": "!pip install -q PyGithub",
      "outputs": []
    },
    {
      "id": "d9f7e4ac-227c-4fb0-8934-83b12f6689fe",
      "cell_type": "code",
      "metadata": {
        "noteable": {
          "cell_type": "code",
          "output_collection_id": "eb6bb9a9-83c4-44b1-ae72-c8ba35077947"
        },
        "ExecuteTime": {
          "end_time": "2023-08-25T22:09:47.346966+00:00",
          "start_time": "2023-08-25T22:09:47.188218+00:00"
        }
      },
      "execution_count": null,
      "source": "from github import Github\nimport os\n\ndef upload_to_github_improved(token, repo_name, file_path, file_name, commit_message):\n    \"\"\"Upload a file to a GitHub repository.\"\"\"\n    g = Github(token)\n    repo = g.get_user().get_repo(repo_name)\n    file_content = open(file_path, 'rb').read()\n    repo.create_file(file_name, commit_message, file_content)",
      "outputs": []
    },
    {
      "id": "cf7938ad-983d-4209-9e6c-40587abbbab4",
      "cell_type": "code",
      "metadata": {
        "noteable": {
          "cell_type": "code",
          "output_collection_id": "f8869421-e2eb-400d-84bb-b916b7f8e99d"
        },
        "ExecuteTime": {
          "end_time": "2023-08-25T22:10:03.967403+00:00",
          "start_time": "2023-08-25T22:10:02.913129+00:00"
        }
      },
      "execution_count": null,
      "source": "# Define GitHub token and repository name\nGITHUB_TOKEN = os.environ.get('GITHUB_TOKEN')\nREPO_NAME = 'matthewhand/discord-python-executor-bot'\n\n# Define file details\nFILE_PATH = 'GitHub_Utilities.ipynb'\nFILE_NAME = 'notebooks/GitHub_Utilities.ipynb'\nCOMMIT_MESSAGE = 'Add GitHub Utilities notebook'\n\n# Upload the notebook to GitHub\nupload_to_github_improved(GITHUB_TOKEN, REPO_NAME, FILE_PATH, FILE_NAME, COMMIT_MESSAGE)",
      "outputs": []
    }
  ]
}
