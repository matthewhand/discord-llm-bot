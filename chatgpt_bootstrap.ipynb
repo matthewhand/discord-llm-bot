{
  "nbformat": 4,
  "nbformat_minor": 5,
  "metadata": {
    "noteable-chatgpt": {
      "create_notebook": {
        "openai_conversation_id": "ccab6b12-2273-55c1-beb1-01ccee61123e",
        "openai_ephemeral_user_id": "8d639337-f7c5-584e-922c-cf806e3c8280",
        "openai_subdivision1_iso_code": "AU-ACT"
      }
    },
    "kernel_info": {
      "name": "python3"
    },
    "noteable": {
      "last_transaction_id": "243e9472-6f92-4aca-a42e-a4eedc0bcbc5"
    },
    "kernelspec": {
      "display_name": "Python 3.9",
      "language": "python",
      "name": "python3"
    },
    "selected_hardware_size": "small"
  },
  "cells": [
    {
      "id": "8403a947-12c2-4e9a-9e9d-e7ca89f09df9",
      "cell_type": "code",
      "metadata": {
        "noteable": {
          "cell_type": "code"
        }
      },
      "execution_count": null,
      "source": "!pip install pyGithub",
      "outputs": []
    },
    {
      "id": "890a9abd-599a-4ee1-b442-b9073c52eb19",
      "cell_type": "code",
      "metadata": {
        "noteable": {
          "cell_type": "code"
        }
      },
      "execution_count": null,
      "source": "from github import Github\nimport os\n\ndef upload_to_github(repo_name, file_path, content):\n    GITHUB_TOKEN = os.environ['GITHUB_TOKEN']\n    g = Github(GITHUB_TOKEN)\n    repo = g.get_user().get_repo(repo_name)\n    try:\n        file = repo.get_contents(file_path)\n        repo.update_file(file_path, f'Update {file_path}', content, file.sha)\n    except:\n        repo.create_file(file_path, f'Create {file_path}', content)\n    print(f'{file_path} has been uploaded to {repo_name}.')",
      "outputs": []
    },
    {
      "id": "8c357275-ced6-4ca9-825f-cf17c5a0963c",
      "cell_type": "code",
      "metadata": {
        "noteable": {
          "cell_type": "code"
        }
      },
      "execution_count": null,
      "source": "import requests\n\ndef list_render_services():\n    RENDER_API_TOKEN = os.environ['RENDER_API_TOKEN']\n    headers = {'Authorization': f'Bearer {RENDER_API_TOKEN}'}\n    url = 'https://api.render.com/v1/services'\n    response = requests.get(url, headers=headers)\n    services = response.json()\n    return services\n\n# Example usage\n# services = list_render_services()\n# print(services)",
      "outputs": []
    },
    {
      "id": "8d175ee7-57be-4b3e-85e7-6725ab517b07",
      "cell_type": "code",
      "metadata": {
        "noteable": {
          "cell_type": "code"
        }
      },
      "execution_count": null,
      "source": "REPO_NAME = 'discord-python-executor-bot'\nNOTEBOOK_PATH = 'chatgpt_bootstrap.ipynb'\n\nwith open(NOTEBOOK_PATH, 'r') as file:\n    notebook_content = file.read()\n    upload_to_github(REPO_NAME, NOTEBOOK_PATH, notebook_content)\n\nprint('Notebook has been uploaded to the GitHub repository.')",
      "outputs": []
    }
  ]
}