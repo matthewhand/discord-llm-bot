{
  "nbformat": 4,
  "nbformat_minor": 5,
  "metadata": {
    "noteable-chatgpt": {
      "create_notebook": {
        "openai_conversation_id": "ccab6b12-2273-55c1-beb1-01ccee61123e",
        "openai_ephemeral_user_id": "8d639337-f7c5-584e-922c-cf806e3c8280",
        "openai_subdivision1_iso_code": "AU-ACT"
      }
    },
    "kernel_info": {
      "name": "python3"
    },
    "noteable": {
      "last_transaction_id": "a35296a0-ca31-4cb4-900d-4cedea133003"
    },
    "kernelspec": {
      "display_name": "Python 3.9",
      "language": "python",
      "name": "python3"
    },
    "selected_hardware_size": "small"
  },
  "cells": [
    {
      "id": "957ba063-733c-428e-a5d6-c51e608f8eb6",
      "cell_type": "markdown",
      "source": "## How to Import and Execute a Notebook\n\nYou can import and execute a notebook within another notebook using `%run` or the `nbformat` and `runipy` libraries. Here's an example of how to do it:\n\n```python\nimport nbformat\nfrom nbconvert.preprocessors import ExecutePreprocessor\n\n# Load the notebook\nnotebook_filename = 'chatgpt_bootstrap.ipynb'\nwith open(notebook_filename) as f:\n    notebook = nbformat.read(f, as_version=4)\n\n# Execute the notebook\nep = ExecutePreprocessor(timeout=600, kernel_name='python3')\nep.preprocess(notebook)\n",
      "metadata": {
        "noteable": {
          "cell_type": "markdown"
        }
      }
    },
    {
      "id": "8403a947-12c2-4e9a-9e9d-e7ca89f09df9",
      "cell_type": "code",
      "metadata": {
        "noteable": {
          "cell_type": "code",
          "output_collection_id": "fd54d784-22b5-4f8d-953f-9fe0a245b3a9"
        },
        "ExecuteTime": {
          "end_time": "2023-08-13T08:07:48.161982+00:00",
          "start_time": "2023-08-13T08:07:42.189115+00:00"
        }
      },
      "execution_count": null,
      "source": "!pip install -q pyGithub jupytext\n",
      "outputs": []
    },
    {
      "id": "890a9abd-599a-4ee1-b442-b9073c52eb19",
      "cell_type": "code",
      "metadata": {
        "noteable": {
          "cell_type": "code",
          "output_collection_id": "1f481413-b6c4-4b55-9418-4619e4fa55f1"
        },
        "ExecuteTime": {
          "end_time": "2023-08-13T08:07:48.518203+00:00",
          "start_time": "2023-08-13T08:07:48.174324+00:00"
        }
      },
      "execution_count": null,
      "source": "from github import Github\nimport os\n\ndef upload_to_github(repo_name, file_path, content):\n    GITHUB_TOKEN = os.environ['GITHUB_TOKEN']\n    g = Github(GITHUB_TOKEN)\n    repo = g.get_user().get_repo(repo_name)\n    try:\n        file = repo.get_contents(file_path)\n        repo.update_file(file_path, f'Update {file_path}', content, file.sha)\n    except:\n        repo.create_file(file_path, f'Create {file_path}', content)\n    print(f'{file_path} has been uploaded to {repo_name}.')",
      "outputs": []
    },
    {
      "id": "8c357275-ced6-4ca9-825f-cf17c5a0963c",
      "cell_type": "code",
      "metadata": {
        "noteable": {
          "cell_type": "code",
          "output_collection_id": "3dd6282d-29b0-49f0-8135-453410998c3c"
        },
        "ExecuteTime": {
          "end_time": "2023-08-13T08:07:48.732308+00:00",
          "start_time": "2023-08-13T08:07:48.575524+00:00"
        }
      },
      "execution_count": null,
      "source": "import requests\n\ndef list_render_services():\n    RENDER_API_KEY = os.environ['RENDER_API_KEY']\n    headers = {'Authorization': f'Bearer {RENDER_API_KEY}'}\n    url = 'https://api.render.com/v1/services'\n    response = requests.get(url, headers=headers)\n    services = response.json()\n    return services\n\n# Example usage\n# services = list_render_services()\n# print(services)",
      "outputs": []
    },
    {
      "id": "8d175ee7-57be-4b3e-85e7-6725ab517b07",
      "cell_type": "code",
      "metadata": {
        "noteable": {
          "cell_type": "code",
          "output_collection_id": "406790fd-e0df-4e8a-a08e-0257b2088931"
        },
        "ExecuteTime": {
          "end_time": "2023-08-13T08:07:49.429754+00:00",
          "start_time": "2023-08-13T08:07:48.775158+00:00"
        }
      },
      "execution_count": null,
      "source": "REPO_NAME = 'discord-python-executor-bot'\nNOTEBOOK_PATH = 'chatgpt_bootstrap.ipynb'\n\nwith open(NOTEBOOK_PATH, 'r') as file:\n    notebook_content = file.read()\n    upload_to_github(REPO_NAME, NOTEBOOK_PATH, notebook_content)\n\nprint('Notebook has been uploaded to the GitHub repository.')",
      "outputs": []
    },
    {
      "id": "3a39e808-74d1-4668-ab97-ea50ad25c4e8",
      "cell_type": "code",
      "metadata": {
        "jupyter": {
          "outputs_hidden": false,
          "source_hidden": false
        },
        "noteable": {
          "cell_type": "code",
          "output_collection_id": "2d4d5cf2-0409-44c7-bd38-0943a291f0dd"
        },
        "ExecuteTime": {
          "end_time": "2023-08-13T08:07:49.795695+00:00",
          "start_time": "2023-08-13T08:07:49.436044+00:00"
        }
      },
      "execution_count": null,
      "source": "import jupytext\nimport ast\n\ndef get_functions_from_notebook(notebook_path):\n    # Read the notebook using jupytext\n    notebook = jupytext.read(notebook_path)\n    \n    # Initialize a list to store function names\n    functions = []\n    \n    # Iterate through the code cells\n    for cell in notebook.cells:\n        if cell.cell_type == 'code':\n            # Skip cells that contain shell commands or other non-Python code\n            if cell.source.startswith('!') or cell.source.startswith('%'):\n                continue\n            \n            try:\n                # Parse the code into an AST\n                tree = ast.parse(cell.source)\n                \n                # Find all function definitions in the AST\n                for node in ast.walk(tree):\n                    if isinstance(node, ast.FunctionDef):\n                        functions.append(node.name)\n            except SyntaxError:\n                # Handle any syntax errors in the code\n                print(f\"Skipping cell with invalid syntax: {cell.source}\")\n\n    return functions\n",
      "outputs": []
    },
    {
      "id": "39aed4a5-ba10-4b77-b3d1-51b3848587d9",
      "cell_type": "code",
      "metadata": {
        "jupyter": {
          "outputs_hidden": false,
          "source_hidden": false
        },
        "noteable": {
          "cell_type": "code",
          "output_collection_id": "55dbcaa5-724f-4e2b-97e0-a06befc9d484"
        },
        "ExecuteTime": {
          "end_time": "2023-08-13T08:07:50.138008+00:00",
          "start_time": "2023-08-13T08:07:49.803798+00:00"
        }
      },
      "execution_count": null,
      "source": "list_render_services()",
      "outputs": []
    },
    {
      "id": "e9367604-1db8-48ab-b347-1a77b03e686d",
      "cell_type": "code",
      "metadata": {
        "jupyter": {
          "outputs_hidden": false,
          "source_hidden": false
        },
        "noteable": {
          "cell_type": "code",
          "output_collection_id": "dd2ee6ed-cdac-42d9-8527-23ebf4f9a9eb"
        },
        "ExecuteTime": {
          "end_time": "2023-08-13T08:07:50.306187+00:00",
          "start_time": "2023-08-13T08:07:50.145186+00:00"
        }
      },
      "execution_count": null,
      "source": "import nbformat\ndef get_function_source(notebook_path, function_name):\n    notebook = nbformat.read(notebook_path, as_version=4)\n    function_source = ''\n    for cell in notebook.cells:\n        if cell.cell_type == 'code' and function_name in cell.source:\n            function_source += cell.source\n    return function_source\n\nfunction_source = get_function_source('chatgpt_bootstrap.ipynb', 'get_function_source')\nprint(function_source)",
      "outputs": []
    },
    {
      "id": "8efce71c-2d12-4d70-b196-97bf4ae4a857",
      "cell_type": "code",
      "metadata": {
        "jupyter": {
          "outputs_hidden": false,
          "source_hidden": false
        },
        "noteable": {
          "cell_type": "code"
        }
      },
      "execution_count": null,
      "source": "",
      "outputs": []
    },
    {
      "id": "df73129f-8b65-44be-836b-5a0fb5f9125c",
      "cell_type": "code",
      "metadata": {
        "jupyter": {
          "outputs_hidden": false,
          "source_hidden": false
        },
        "noteable": {
          "cell_type": "code"
        }
      },
      "execution_count": null,
      "source": "",
      "outputs": []
    }
  ]
}