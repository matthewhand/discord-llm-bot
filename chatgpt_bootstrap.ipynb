{
  "nbformat": 4,
  "nbformat_minor": 5,
  "metadata": {
    "noteable-chatgpt": {
      "create_notebook": {
        "openai_conversation_id": "ccab6b12-2273-55c1-beb1-01ccee61123e",
        "openai_ephemeral_user_id": "8d639337-f7c5-584e-922c-cf806e3c8280",
        "openai_subdivision1_iso_code": "AU-ACT"
      }
    },
    "kernel_info": {
      "name": "python3"
    },
    "noteable": {
      "last_transaction_id": "9ebdc378-ddb6-47a5-a136-e6aba53c7f6a"
    },
    "kernelspec": {
      "display_name": "Python 3.9",
      "language": "python",
      "name": "python3"
    },
    "selected_hardware_size": "small"
  },
  "cells": [
    {
      "id": "957ba063-733c-428e-a5d6-c51e608f8eb6",
      "cell_type": "markdown",
      "source": "## How to Import and Execute a Notebook\n\nYou can import and execute a notebook within another notebook using `%run` or the `nbformat` and `runipy` libraries. Here's an example of how to do it:\n\n```python\nimport nbformat\nfrom nbconvert.preprocessors import ExecutePreprocessor\n\n# Load the notebook\nnotebook_filename = 'chatgpt_bootstrap.ipynb'\nwith open(notebook_filename) as f:\n    notebook = nbformat.read(f, as_version=4)\n\n# Execute the notebook\nep = ExecutePreprocessor(timeout=600, kernel_name='python3')\nep.preprocess(notebook)\n",
      "metadata": {
        "noteable": {
          "cell_type": "markdown"
        }
      }
    },
    {
      "id": "8403a947-12c2-4e9a-9e9d-e7ca89f09df9",
      "cell_type": "code",
      "metadata": {
        "noteable": {
          "cell_type": "code",
          "output_collection_id": "3313e068-f16b-4b0c-adb0-8f0d2b888c26"
        },
        "ExecuteTime": {
          "end_time": "2023-08-13T07:33:56.257633+00:00",
          "start_time": "2023-08-13T07:33:51.406384+00:00"
        }
      },
      "execution_count": null,
      "source": "!pip install -q pyGithub jupytext\n",
      "outputs": []
    },
    {
      "id": "890a9abd-599a-4ee1-b442-b9073c52eb19",
      "cell_type": "code",
      "metadata": {
        "noteable": {
          "cell_type": "code",
          "output_collection_id": "58e81d71-4a46-491a-9e2a-f1e2dc6a8b6c"
        },
        "ExecuteTime": {
          "end_time": "2023-08-13T06:16:07.929252+00:00",
          "start_time": "2023-08-13T06:16:07.583461+00:00"
        }
      },
      "execution_count": null,
      "source": "from github import Github\nimport os\n\ndef upload_to_github(repo_name, file_path, content):\n    GITHUB_TOKEN = os.environ['GITHUB_TOKEN']\n    g = Github(GITHUB_TOKEN)\n    repo = g.get_user().get_repo(repo_name)\n    try:\n        file = repo.get_contents(file_path)\n        repo.update_file(file_path, f'Update {file_path}', content, file.sha)\n    except:\n        repo.create_file(file_path, f'Create {file_path}', content)\n    print(f'{file_path} has been uploaded to {repo_name}.')",
      "outputs": []
    },
    {
      "id": "8c357275-ced6-4ca9-825f-cf17c5a0963c",
      "cell_type": "code",
      "metadata": {
        "noteable": {
          "cell_type": "code",
          "output_collection_id": "a3f5e33c-3ac1-4a0f-83e4-30485d1260b5"
        },
        "ExecuteTime": {
          "end_time": "2023-08-13T07:43:03.965433+00:00",
          "start_time": "2023-08-13T07:43:03.808337+00:00"
        }
      },
      "execution_count": null,
      "source": "import requests\n\ndef list_render_services():\n    RENDER_API_KEY = os.environ['RENDER_API_KEY']\n    headers = {'Authorization': f'Bearer {RENDER_API_KEY}'}\n    url = 'https://api.render.com/v1/services'\n    response = requests.get(url, headers=headers)\n    services = response.json()\n    return services\n\n# Example usage\n# services = list_render_services()\n# print(services)",
      "outputs": []
    },
    {
      "id": "8d175ee7-57be-4b3e-85e7-6725ab517b07",
      "cell_type": "code",
      "metadata": {
        "noteable": {
          "cell_type": "code",
          "output_collection_id": "16efad8c-3866-4f92-9bc1-7a87136fb172"
        },
        "ExecuteTime": {
          "end_time": "2023-08-13T07:39:10.294340+00:00",
          "start_time": "2023-08-13T07:39:10.111803+00:00"
        }
      },
      "execution_count": null,
      "source": "REPO_NAME = 'discord-python-executor-bot'\nNOTEBOOK_PATH = 'chatgpt_bootstrap.ipynb'\n\nwith open(NOTEBOOK_PATH, 'r') as file:\n    notebook_content = file.read()\n    upload_to_github(REPO_NAME, NOTEBOOK_PATH, notebook_content)\n\nprint('Notebook has been uploaded to the GitHub repository.')",
      "outputs": []
    },
    {
      "id": "3a39e808-74d1-4668-ab97-ea50ad25c4e8",
      "cell_type": "code",
      "metadata": {
        "jupyter": {
          "outputs_hidden": false,
          "source_hidden": false
        },
        "noteable": {
          "cell_type": "code",
          "output_collection_id": "cf7a56fb-d53b-4172-92aa-4c8f713ecb9b"
        },
        "ExecuteTime": {
          "end_time": "2023-08-13T07:39:11.171380+00:00",
          "start_time": "2023-08-13T07:39:11.009325+00:00"
        }
      },
      "execution_count": null,
      "source": "import jupytext\nimport ast\n\ndef get_functions_from_notebook(notebook_path):\n    # Read the notebook using jupytext\n    notebook = jupytext.read(notebook_path)\n    \n    # Initialize a list to store function names\n    functions = []\n    \n    # Iterate through the code cells\n    for cell in notebook.cells:\n        if cell.cell_type == 'code':\n            # Skip cells that contain shell commands or other non-Python code\n            if cell.source.startswith('!') or cell.source.startswith('%'):\n                continue\n            \n            try:\n                # Parse the code into an AST\n                tree = ast.parse(cell.source)\n                \n                # Find all function definitions in the AST\n                for node in ast.walk(tree):\n                    if isinstance(node, ast.FunctionDef):\n                        functions.append(node.name)\n            except SyntaxError:\n                # Handle any syntax errors in the code\n                print(f\"Skipping cell with invalid syntax: {cell.source}\")\n\n    return functions\n",
      "outputs": []
    },
    {
      "id": "9b4ade80-c47f-4db6-be1a-44ecd25cb618",
      "cell_type": "code",
      "metadata": {
        "jupyter": {
          "outputs_hidden": false,
          "source_hidden": false
        },
        "noteable": {
          "cell_type": "code",
          "output_collection_id": "664faf2e-f1d8-4ca6-bbb4-7e2501a39df1"
        },
        "ExecuteTime": {
          "end_time": "2023-08-13T08:04:31.800526+00:00",
          "start_time": "2023-08-13T08:04:31.212514+00:00"
        }
      },
      "execution_count": null,
      "source": "get_functions_from_notebook('chatgpt_bootstrap.ipynb')",
      "outputs": []
    },
    {
      "id": "39aed4a5-ba10-4b77-b3d1-51b3848587d9",
      "cell_type": "code",
      "metadata": {
        "jupyter": {
          "outputs_hidden": false,
          "source_hidden": false
        },
        "noteable": {
          "cell_type": "code",
          "output_collection_id": "73a750d2-6c7b-4214-96f6-137c3ac6d18a"
        },
        "ExecuteTime": {
          "end_time": "2023-08-13T07:43:08.253762+00:00",
          "start_time": "2023-08-13T07:43:07.925790+00:00"
        }
      },
      "execution_count": null,
      "source": "list_render_services()",
      "outputs": []
    },
    {
      "id": "e9367604-1db8-48ab-b347-1a77b03e686d",
      "cell_type": "code",
      "metadata": {
        "jupyter": {
          "outputs_hidden": false,
          "source_hidden": false
        },
        "noteable": {
          "cell_type": "code",
          "output_collection_id": "0321083d-e8cb-4225-9206-03ac2ae057bc"
        },
        "ExecuteTime": {
          "end_time": "2023-08-13T08:07:19.620184+00:00",
          "start_time": "2023-08-13T08:07:19.460787+00:00"
        }
      },
      "execution_count": null,
      "source": "import nbformat\ndef get_function_source(notebook_path, function_name):\n    notebook = nbformat.read(notebook_path, as_version=4)\n    function_source = ''\n    for cell in notebook.cells:\n        if cell.cell_type == 'code' and function_name in cell.source:\n            function_source += cell.source\n    return function_source\n\nfunction_source = get_function_source('chatgpt_bootstrap.ipynb', 'get_function_source')\nprint(function_source)",
      "outputs": []
    },
    {
      "id": "8efce71c-2d12-4d70-b196-97bf4ae4a857",
      "cell_type": "code",
      "metadata": {
        "jupyter": {
          "outputs_hidden": false,
          "source_hidden": false
        },
        "noteable": {
          "cell_type": "code"
        }
      },
      "execution_count": null,
      "source": "",
      "outputs": []
    }
  ]
}