{
  "nbformat": 4,
  "nbformat_minor": 5,
  "metadata": {
    "noteable-chatgpt": {
      "create_notebook": {
        "openai_conversation_id": "a0b6eab8-6114-5ffa-8e78-118c5944170b",
        "openai_ephemeral_user_id": "e2b91a37-69e3-525d-b545-e5bfc33dd451",
        "openai_subdivision1_iso_code": "AU-ACT"
      }
    },
    "kernel_info": {
      "name": "python3"
    },
    "noteable": {
      "last_transaction_id": "73b367f1-9ffb-4ab8-895a-10c81e6e5dcf"
    },
    "kernelspec": {
      "display_name": "Python 3.9",
      "language": "python",
      "name": "python3"
    },
    "selected_hardware_size": "small"
  },
  "cells": [
    {
      "id": "cf9410e7-3e1e-4f59-a3e5-7efadc03ecb0",
      "cell_type": "code",
      "metadata": {
        "noteable": {
          "cell_type": "code",
          "output_collection_id": "bdcca400-1cd2-435b-8b99-530c0deae0f1"
        },
        "ExecuteTime": {
          "end_time": "2023-08-24T01:46:27.018104+00:00",
          "start_time": "2023-08-24T01:46:26.500199+00:00"
        }
      },
      "execution_count": null,
      "source": "from github import Github\nimport os\n\ndef authenticate_github(token=None):\n    \"\"\"Authenticate with GitHub using the provided token or environment variable.\"\"\"\n    token = token or os.getenv('GITHUB_TOKEN')\n    if not token:\n        raise ValueError('GitHub token is required for authentication.')\n    return Github(token)\n\n# Testing authentication\ngithub_client = authenticate_github()\ngithub_client.get_user().login",
      "outputs": []
    },
    {
      "id": "214fa5f5-7aa1-4b00-8031-a572ce62feff",
      "cell_type": "code",
      "metadata": {
        "noteable": {
          "cell_type": "code",
          "output_collection_id": "a9b8570b-37fd-4b90-a92e-78380c4dfaad"
        },
        "ExecuteTime": {
          "end_time": "2023-08-24T01:45:36.661069+00:00",
          "start_time": "2023-08-24T01:45:36.500389+00:00"
        }
      },
      "execution_count": null,
      "source": "# Creating requirements.txt file with necessary modules in the current notebook\nrequirements = \"\"\"\npygithub\n\"\"\"\n\n# Writing to requirements.txt file\nwith open('requirements.txt', 'w') as file:\n    file.write(requirements)\n\n# Confirming the creation of the file\n'requirements.txt file created successfully in the current notebook!'",
      "outputs": []
    },
    {
      "id": "b0ec1f76-832a-4b14-bfd2-13b0d9a96282",
      "cell_type": "code",
      "metadata": {
        "noteable": {
          "cell_type": "code",
          "output_collection_id": "59c0caba-82d3-46a5-90f8-912b964c05ae"
        },
        "ExecuteTime": {
          "end_time": "2023-08-24T01:46:10.362166+00:00",
          "start_time": "2023-08-24T01:46:04.635198+00:00"
        }
      },
      "execution_count": null,
      "source": "!pip install -r requirements.txt",
      "outputs": []
    },
    {
      "id": "f8fbce27-c374-400c-bcda-560242677519",
      "cell_type": "code",
      "metadata": {
        "noteable": {
          "cell_type": "code",
          "output_collection_id": "bd66d160-4a7a-41e4-bed2-d0ab8917ca0a"
        },
        "ExecuteTime": {
          "end_time": "2023-08-24T01:48:00.576743+00:00",
          "start_time": "2023-08-24T01:48:00.105178+00:00"
        }
      },
      "execution_count": null,
      "source": "def retrieve_file_from_github(repo_name, file_path, github_client=None):\n    \"\"\"Retrieve a specific file from the given GitHub repository.\"\"\"\n    github_client = github_client or authenticate_github()\n    repo = github_client.get_repo(repo_name)\n    file_content = repo.get_contents(file_path)\n    return file_content.decoded_content.decode()\n\n# Testing the function by retrieving the 'chatgpt_bootstrap.ipynb' notebook\nrepo_name = 'matthewhand/discord-python-executor-bot'\nfile_path = 'chatgpt_bootstrap.ipynb'\nfile_content = retrieve_file_from_github(repo_name, file_path)\nfile_content[:500] # Displaying the first 500 characters of the file content",
      "outputs": []
    },
    {
      "id": "0434b10a-8f8a-4d9e-954c-fa476ebcce6c",
      "cell_type": "code",
      "metadata": {
        "noteable": {
          "cell_type": "code",
          "output_collection_id": "9cb3f9a5-3ec6-4dca-8ae9-03273b847547"
        },
        "ExecuteTime": {
          "end_time": "2023-08-24T01:49:50.126623+00:00",
          "start_time": "2023-08-24T01:49:49.339733+00:00"
        }
      },
      "execution_count": null,
      "source": "from github import Github, UnknownObjectException\n\ndef upload_file_to_github(repo_name, file_path, content, commit_message, github_client=None):\n    \"\"\"Upload a specific file to the given GitHub repository.\"\"\"\n    github_client = github_client or authenticate_github()\n    repo = github_client.get_repo(repo_name)\n    try:\n        # Check if the file already exists\n        existing_file = repo.get_contents(file_path)\n        # Update the existing file\n        repo.update_file(file_path, commit_message, content, existing_file.sha)\n    except UnknownObjectException:\n        # Create a new file if it does not exist\n        repo.create_file(file_path, commit_message, content)\n    return f'File {file_path} uploaded successfully to {repo_name} repository!'\n\n# Testing the function by uploading a sample text file\nfile_path = 'sample.txt'\ncontent = 'This is a sample text file.'\ncommit_message = 'Adding sample text file'\nupload_result = upload_file_to_github(repo_name, file_path, content, commit_message)\nupload_result",
      "outputs": []
    },
    {
      "id": "1dfed107-f15b-4cfb-bf8a-8e0e74e6ac1d",
      "cell_type": "code",
      "metadata": {
        "noteable": {
          "cell_type": "code",
          "output_collection_id": "b3323e9c-fbc6-4323-adc9-36fef77b9542"
        },
        "ExecuteTime": {
          "end_time": "2023-08-24T01:50:44.447212+00:00",
          "start_time": "2023-08-24T01:50:37.204559+00:00"
        }
      },
      "execution_count": null,
      "source": "# Writing the retrieved 'chatgpt_bootstrap.ipynb' notebook content to a local file\nnotebook_filename = 'chatgpt_bootstrap.ipynb'\nwith open(notebook_filename, 'w') as file:\n    file.write(file_content)\n\n# Running the notebook using the %run command\n%run chatgpt_bootstrap.ipynb",
      "outputs": []
    },
    {
      "id": "4647956f-5fb2-42f6-9d38-6e30008d703a",
      "cell_type": "code",
      "metadata": {
        "noteable": {
          "cell_type": "code",
          "output_collection_id": "7254d3ce-dadb-4202-8760-d4c9290ddb8f"
        },
        "ExecuteTime": {
          "end_time": "2023-08-24T01:51:44.462735+00:00",
          "start_time": "2023-08-24T01:51:43.625714+00:00"
        }
      },
      "execution_count": null,
      "source": "import nbformat\nfrom nbconvert import PythonExporter\n\ndef extract_functions_from_notebook(notebook_path):\n    \"\"\"Extract all functions, their arguments, and relevant details from the given notebook.\"\"\"\n    notebook = nbformat.read(notebook_path, as_version=4)\n    exporter = PythonExporter()\n    python_code, _ = exporter.from_notebook_node(notebook)\n    functions = []\n    for line in python_code.split('\\n'):\n        if line.strip().startswith('def '):\n            functions.append(line.strip())\n    return functions\n\n# Testing the function by extracting functions from the 'chatgpt_bootstrap.ipynb' notebook\nextracted_functions = extract_functions_from_notebook(notebook_filename)\nextracted_functions",
      "outputs": []
    },
    {
      "id": "26fa125f-177f-44ab-b2eb-4f2d4a6b2fff",
      "cell_type": "code",
      "metadata": {
        "noteable": {
          "cell_type": "code"
        }
      },
      "execution_count": null,
      "source": "def amend_notebook_with_functions(notebook_path, functions):\n    \"\"\"Amend the notebook with the extracted functions and save it with a new filename.\"\"\"\n    notebook = nbformat.read(notebook_path, as_version=4)\n    amended_code = '\\n'.join(functions)\n    new_cell = nbformat.v4.new_code_cell(source=amended_code)\n    notebook.cells.append(new_cell)\n    new_filename = 'notebook/github-render-notebook-helpers.ipynb'\n    with open(new_filename, 'w') as file:\n        nbformat.write(notebook, file)\n    return new_filename\n\n# Testing the function by amending the 'chatgpt_bootstrap.ipynb' notebook with the extracted functions\nnew_notebook_filename = amend_notebook_with_functions(notebook_filename, extracted_functions)\nnew_notebook_filename",
      "outputs": []
    },
    {
      "id": "fa41719a-f0c4-478f-ba4d-803315e1a36c",
      "cell_type": "code",
      "metadata": {
        "noteable": {
          "cell_type": "code"
        }
      },
      "execution_count": null,
      "source": "from github import Github\n\ndef upload_to_github(token, repo_name, file_path, content):\n    \"\"\"Upload a file to the specified GitHub repository.\"\"\"\n    g = Github(token)\n    repo = g.get_user().get_repo(repo_name)\n    repo.create_file(file_path, f'Adding {file_path}', content)\n    return f'{file_path} uploaded to {repo_name}'\n\n# Reading the content of the new notebook file\nwith open(new_notebook_filename, 'r') as file:\n    new_notebook_content = file.read()\n\n# Uploading the new notebook to the GitHub repository\nGITHUB_TOKEN = 'YOUR_GITHUB_TOKEN_HERE' # Replace with the actual token\nREPO_NAME = 'matthewhand/discord-python-executor-bot'\nupload_result = upload_to_github(GITHUB_TOKEN, REPO_NAME, new_notebook_filename, new_notebook_content)\nupload_result",
      "outputs": []
    },
    {
      "id": "78e66784-6ae0-494c-b156-f90341358b35",
      "cell_type": "code",
      "metadata": {
        "noteable": {
          "cell_type": "code",
          "output_collection_id": "a099415a-9d62-4dde-ac9a-81fc22da672c"
        },
        "ExecuteTime": {
          "end_time": "2023-08-24T01:59:58.246363+00:00",
          "start_time": "2023-08-24T01:59:58.017277+00:00"
        }
      },
      "execution_count": null,
      "source": "import os\n\ndef upload_to_github(token, repo_name, file_path, content):\n    \"\"\"Upload a file to the specified GitHub repository.\"\"\"\n    g = Github(token)\n    repo = g.get_user().get_repo(repo_name)\n    repo.create_file(file_path, f'Adding {file_path}', content)\n    return f'{file_path} uploaded to {repo_name}'\n\n# Reading the content of the new notebook file\nwith open(new_notebook_filename, 'r') as file:\n    new_notebook_content = file.read()\n\n# Retrieving the GitHub token from environment variables\nGITHUB_TOKEN = os.getenv('GITHUB_TOKEN')\nREPO_NAME = 'matthewhand/discord-python-executor-bot'\nupload_result = upload_to_github(GITHUB_TOKEN, REPO_NAME, new_notebook_filename, new_notebook_content)\nupload_result",
      "outputs": []
    },
    {
      "id": "f429f652-1367-4f9c-91f0-be30367a3089",
      "cell_type": "code",
      "metadata": {
        "noteable": {
          "cell_type": "code",
          "output_collection_id": "6bc4037f-6d8e-4543-8f33-e65e23174fe5"
        },
        "ExecuteTime": {
          "end_time": "2023-08-24T02:00:33.488438+00:00",
          "start_time": "2023-08-24T02:00:33.151123+00:00"
        }
      },
      "execution_count": null,
      "source": "# Defining the path to the new notebook file\nnew_notebook_filename = 'notebook/github-render-notebook-helpers.ipynb'\n\n# Reading the content of the new notebook file\nwith open(new_notebook_filename, 'r') as file:\n    new_notebook_content = file.read()\n\n# Uploading the new notebook to the GitHub repository\nupload_result = upload_to_github(GITHUB_TOKEN, REPO_NAME, new_notebook_filename, new_notebook_content)\nupload_result",
      "outputs": []
    }
  ]
}